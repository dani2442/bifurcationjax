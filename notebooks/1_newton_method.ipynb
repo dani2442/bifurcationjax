{
 "cells": [
  {
   "cell_type": "code",
   "execution_count": 2,
   "metadata": {},
   "outputs": [],
   "source": [
    "import jax.numpy as jnp\n",
    "import jax\n",
    "import matplotlib.pyplot as plt\n",
    "from functools import partial"
   ]
  },
  {
   "cell_type": "code",
   "execution_count": 37,
   "metadata": {},
   "outputs": [],
   "source": [
    "@partial(jax.jit, static_argnums=(0,))\n",
    "def NewtonStep(f, x0, delta):\n",
    "    J_f = jax.jit(jax.jacobian(f))\n",
    "    return x0 - delta*jnp.dot(jnp.linalg.inv(J_f(x0)), f(x0))\n",
    "\n",
    "def NewtonMethod(f, x0, delta=0.1, max_iters=100, precision=1e-4):\n",
    "    for _ in range(max_iters):\n",
    "        x = NewtonStep(f, x0, delta)\n",
    "        if jnp.sum(jnp.abs(x-x0))<precision:\n",
    "            return x\n",
    "        x0 = x\n",
    "    return x"
   ]
  },
  {
   "cell_type": "code",
   "execution_count": 38,
   "metadata": {},
   "outputs": [],
   "source": [
    "def f(x):\n",
    "    return x*jnp.linalg.norm(x, ord=2)\n",
    "x0 = jnp.ones(5)"
   ]
  },
  {
   "cell_type": "code",
   "execution_count": 39,
   "metadata": {},
   "outputs": [
    {
     "data": {
      "text/plain": [
       "Array([0.00592053, 0.00592053, 0.00592053, 0.00592053, 0.00592053],      dtype=float32)"
      ]
     },
     "execution_count": 39,
     "metadata": {},
     "output_type": "execute_result"
    }
   ],
   "source": [
    "NewtonMethod(f, x0)"
   ]
  },
  {
   "cell_type": "code",
   "execution_count": 4,
   "metadata": {},
   "outputs": [],
   "source": [
    "mu = 0.5\n",
    "@jax.jit\n",
    "def system(t, y, args):\n",
    "    v, w = y[...,0], y[..., 1]\n",
    "    dv = mu * v + w - mu*v**2\n",
    "    dw = v + mu * w + 2 * v**2\n",
    "    return jnp.stack([dv, dw], axis=-1)"
   ]
  }
 ],
 "metadata": {
  "kernelspec": {
   "display_name": ".venv",
   "language": "python",
   "name": "python3"
  },
  "language_info": {
   "codemirror_mode": {
    "name": "ipython",
    "version": 3
   },
   "file_extension": ".py",
   "mimetype": "text/x-python",
   "name": "python",
   "nbconvert_exporter": "python",
   "pygments_lexer": "ipython3",
   "version": "3.10.5"
  }
 },
 "nbformat": 4,
 "nbformat_minor": 2
}
