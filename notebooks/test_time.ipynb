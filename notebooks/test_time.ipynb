{
 "cells": [
  {
   "cell_type": "code",
   "execution_count": 1,
   "metadata": {},
   "outputs": [
    {
     "name": "stdout",
     "output_type": "stream",
     "text": [
      "/home/dani2442/Projects/bifurcationjax\n"
     ]
    },
    {
     "name": "stderr",
     "output_type": "stream",
     "text": [
      "/home/dani2442/Projects/bifurcationjax/.venv/lib/python3.10/site-packages/IPython/core/magics/osm.py:417: UserWarning: This is now an optional IPython functionality, setting dhist requires you to install the `pickleshare` library.\n",
      "  self.shell.db['dhist'] = compress_dhist(dhist)[-100:]\n"
     ]
    }
   ],
   "source": [
    "%cd .."
   ]
  },
  {
   "cell_type": "code",
   "execution_count": 2,
   "metadata": {},
   "outputs": [],
   "source": [
    "import jax.numpy as jnp\n",
    "import jax\n",
    "\n",
    "import matplotlib.pyplot as plt\n",
    "\n",
    "from bifurcationjax.continuation.Corrector import CorrectorParams\n",
    "from bifurcationjax.continuation.Predictor import PredictorParams\n",
    "from bifurcationjax.continuation.Continuation import continuation\n",
    "from bifurcationjax.BifurcationProblem import BifurcationProblem\n",
    "from bifurcationjax.utils.Branch import ContinuationPar\n",
    "from bifurcationjax.utils.plot import plot_bifurcation_diagram\n",
    "from bifurcationjax.utils.bifurcation import get_bifurcation_type, is_stable\n",
    "from bifurcationjax.continuation.Corrector import CorrectorParams, NaturalCorrector\n",
    "from bifurcationjax.utils.Branch import Point\n"
   ]
  },
  {
   "cell_type": "code",
   "execution_count": 3,
   "metadata": {},
   "outputs": [
    {
     "name": "stderr",
     "output_type": "stream",
     "text": [
      "An NVIDIA GPU may be present on this machine, but a CUDA-enabled jaxlib is not installed. Falling back to cpu.\n"
     ]
    }
   ],
   "source": [
    "@jax.jit\n",
    "def F(x, mu):\n",
    "    return x*(mu - x)\n",
    "\n",
    "def plot_fn(p):\n",
    "    return p.z[0]\n",
    "\n",
    "p0 = -0.2\n",
    "x0 = jnp.array([0.])\n",
    "\n",
    "prob = BifurcationProblem(F, x0, p0,)\n",
    "dz0 = jnp.array([0.,1.])"
   ]
  },
  {
   "cell_type": "code",
   "execution_count": 4,
   "metadata": {},
   "outputs": [],
   "source": [
    "prob = BifurcationProblem(F, x0, p0,)\n",
    "par = ContinuationPar(p_min=-1., p_max=1., dsmax=0.0001, max_steps=500)\n",
    "prediction_params = PredictorParams(method='tangent', k=1, dz0=dz0)\n",
    "correction_params = CorrectorParams(method='PALC', epsilon=1e-3)"
   ]
  },
  {
   "cell_type": "code",
   "execution_count": 5,
   "metadata": {},
   "outputs": [],
   "source": [
    "p0 = Point(step=0)\n",
    "J = jax.jit(jax.jacobian(prob.f))\n",
    "z = jnp.append(prob.x0, prob.p0)\n",
    "\n",
    "p0.z, success = NaturalCorrector(delta=0.2, k=0)(z, None, prob.f, None, par.dsmax)\n",
    "\n",
    "p0.evals, p0.evecs = jnp.linalg.eig(J(p0.z[:-1], p0.z[-1])) \n",
    "p0.n_unstable, p0.n_imag, p0.stable = is_stable(p0.evals)\n",
    "\n",
    "predictor = prediction_params.init()\n",
    "corrector = correction_params.init()"
   ]
  },
  {
   "cell_type": "code",
   "execution_count": 6,
   "metadata": {},
   "outputs": [],
   "source": [
    "zpred, v = predictor(p0.z, par.dsmax, prob.f)"
   ]
  },
  {
   "cell_type": "code",
   "execution_count": 9,
   "metadata": {},
   "outputs": [
    {
     "name": "stdout",
     "output_type": "stream",
     "text": [
      "128 µs ± 1.24 µs per loop (mean ± std. dev. of 7 runs, 10,000 loops each)\n"
     ]
    }
   ],
   "source": [
    "%%timeit\n",
    "zpred, v = predictor(p0.z, par.dsmax, prob.f)"
   ]
  },
  {
   "cell_type": "code",
   "execution_count": null,
   "metadata": {},
   "outputs": [],
   "source": []
  },
  {
   "cell_type": "code",
   "execution_count": 10,
   "metadata": {},
   "outputs": [
    {
     "name": "stdout",
     "output_type": "stream",
     "text": [
      "268 µs ± 6.65 µs per loop (mean ± std. dev. of 7 runs, 1,000 loops each)\n"
     ]
    }
   ],
   "source": [
    "%%timeit\n",
    "z, success = corrector(zpred, p0.z, prob.f, v, par.dsmax)"
   ]
  },
  {
   "cell_type": "code",
   "execution_count": null,
   "metadata": {},
   "outputs": [],
   "source": []
  },
  {
   "cell_type": "code",
   "execution_count": null,
   "metadata": {},
   "outputs": [],
   "source": []
  }
 ],
 "metadata": {
  "kernelspec": {
   "display_name": ".venv",
   "language": "python",
   "name": "python3"
  },
  "language_info": {
   "codemirror_mode": {
    "name": "ipython",
    "version": 3
   },
   "file_extension": ".py",
   "mimetype": "text/x-python",
   "name": "python",
   "nbconvert_exporter": "python",
   "pygments_lexer": "ipython3",
   "version": "3.10.5"
  }
 },
 "nbformat": 4,
 "nbformat_minor": 2
}
